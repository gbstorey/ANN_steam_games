{
 "cells": [
  {
   "cell_type": "code",
   "execution_count": 2,
   "id": "c1a871e1",
   "metadata": {},
   "outputs": [],
   "source": [
    "import pandas as pd"
   ]
  },
  {
   "cell_type": "code",
   "execution_count": 36,
   "id": "433ce6d2",
   "metadata": {
    "scrolled": true
   },
   "outputs": [
    {
     "data": {
      "text/html": [
       "<div>\n",
       "<style scoped>\n",
       "    .dataframe tbody tr th:only-of-type {\n",
       "        vertical-align: middle;\n",
       "    }\n",
       "\n",
       "    .dataframe tbody tr th {\n",
       "        vertical-align: top;\n",
       "    }\n",
       "\n",
       "    .dataframe thead th {\n",
       "        text-align: right;\n",
       "    }\n",
       "</style>\n",
       "<table border=\"1\" class=\"dataframe\">\n",
       "  <thead>\n",
       "    <tr style=\"text-align: right;\">\n",
       "      <th></th>\n",
       "      <th>appid</th>\n",
       "      <th>name</th>\n",
       "      <th>playtime_minutes</th>\n",
       "      <th>rtime_last_played</th>\n",
       "      <th>ratings</th>\n",
       "    </tr>\n",
       "  </thead>\n",
       "  <tbody>\n",
       "    <tr>\n",
       "      <th>0</th>\n",
       "      <td>220</td>\n",
       "      <td>Half-Life 2</td>\n",
       "      <td>911</td>\n",
       "      <td>2013-01-27 08:00:00</td>\n",
       "      <td>90.716005</td>\n",
       "    </tr>\n",
       "    <tr>\n",
       "      <th>1</th>\n",
       "      <td>340</td>\n",
       "      <td>Half-Life 2: Lost Coast</td>\n",
       "      <td>11</td>\n",
       "      <td>2012-09-01 07:00:00</td>\n",
       "      <td>67.055045</td>\n",
       "    </tr>\n",
       "    <tr>\n",
       "      <th>2</th>\n",
       "      <td>240</td>\n",
       "      <td>Counter-Strike: Source</td>\n",
       "      <td>23867</td>\n",
       "      <td>2023-11-13 01:57:43</td>\n",
       "      <td>78.613361</td>\n",
       "    </tr>\n",
       "    <tr>\n",
       "      <th>3</th>\n",
       "      <td>320</td>\n",
       "      <td>Half-Life 2: Deathmatch</td>\n",
       "      <td>9</td>\n",
       "      <td>2014-02-23 02:29:55</td>\n",
       "      <td>75.463670</td>\n",
       "    </tr>\n",
       "    <tr>\n",
       "      <th>4</th>\n",
       "      <td>360</td>\n",
       "      <td>Half-Life Deathmatch: Source</td>\n",
       "      <td>21</td>\n",
       "      <td>2013-09-15 01:39:18</td>\n",
       "      <td>69.816839</td>\n",
       "    </tr>\n",
       "  </tbody>\n",
       "</table>\n",
       "</div>"
      ],
      "text/plain": [
       "   appid                          name  playtime_minutes   rtime_last_played  \\\n",
       "0    220                   Half-Life 2               911 2013-01-27 08:00:00   \n",
       "1    340       Half-Life 2: Lost Coast                11 2012-09-01 07:00:00   \n",
       "2    240        Counter-Strike: Source             23867 2023-11-13 01:57:43   \n",
       "3    320       Half-Life 2: Deathmatch                 9 2014-02-23 02:29:55   \n",
       "4    360  Half-Life Deathmatch: Source                21 2013-09-15 01:39:18   \n",
       "\n",
       "     ratings  \n",
       "0  90.716005  \n",
       "1  67.055045  \n",
       "2  78.613361  \n",
       "3  75.463670  \n",
       "4  69.816839  "
      ]
     },
     "execution_count": 36,
     "metadata": {},
     "output_type": "execute_result"
    }
   ],
   "source": [
    "df = pd.read_csv('with_ratings.csv')\n",
    "df.drop(df.filter(regex=\"Unname\"),axis=1, inplace=True)\n",
    "df.drop(columns=['img_icon_url'], inplace=True)\n",
    "df['rtime_last_played'] = pd.to_datetime(df['rtime_last_played'], unit='s')\n",
    "df.head()"
   ]
  },
  {
   "cell_type": "code",
   "execution_count": null,
   "id": "70c12297",
   "metadata": {},
   "outputs": [],
   "source": []
  }
 ],
 "metadata": {
  "kernelspec": {
   "display_name": "Python 3 (ipykernel)",
   "language": "python",
   "name": "python3"
  },
  "language_info": {
   "codemirror_mode": {
    "name": "ipython",
    "version": 3
   },
   "file_extension": ".py",
   "mimetype": "text/x-python",
   "name": "python",
   "nbconvert_exporter": "python",
   "pygments_lexer": "ipython3",
   "version": "3.11.5"
  }
 },
 "nbformat": 4,
 "nbformat_minor": 5
}
